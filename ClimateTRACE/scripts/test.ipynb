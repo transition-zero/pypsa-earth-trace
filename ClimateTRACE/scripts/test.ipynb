{
 "cells": [
  {
   "cell_type": "code",
   "execution_count": null,
   "metadata": {},
   "outputs": [],
   "source": [
    "JOB_STATUS_MAP = {\n",
    "    3: \"RUNNING\",\n",
    "    4: \"SUCCEEDED\",\n",
    "    5: \"FAILED\",\n",
    "}"
   ]
  },
  {
   "cell_type": "code",
   "execution_count": 12,
   "metadata": {},
   "outputs": [],
   "source": [
    "from google.cloud import batch_v1\n",
    "def get_job_status(project_id, region, job_name):\n",
    "    client = batch_v1.BatchServiceClient()\n",
    "    job_path = f\"projects/{project_id}/locations/{region}/jobs/{job_name}\"\n",
    "\n",
    "    try:\n",
    "        job = client.get_job(name=job_path)\n",
    "        print(f\"Job name: {job.name}\")\n",
    "        print(f\"Status: {job.status.state}\")\n",
    "        print(f\"Create time: {job.create_time}\")\n",
    "        print(f\"Update time: {job.update_time}\")\n",
    "        return job\n",
    "    except Exception as e:\n",
    "        print(f\"Error retrieving job: {e}\")\n",
    "    \n"
   ]
  },
  {
   "cell_type": "code",
   "execution_count": 13,
   "metadata": {},
   "outputs": [
    {
     "name": "stdout",
     "output_type": "stream",
     "text": [
      "Job name: projects/tz-feo-staging/locations/europe-west2/jobs/bf-solve-all-networks-20240801165444\n",
      "Status: 4\n",
      "Create time: 2024-08-01 15:54:44.704177+00:00\n",
      "Update time: 2024-08-01 15:58:13.432011+00:00\n"
     ]
    }
   ],
   "source": [
    "job = get_job_status(\"tz-feo-staging\",\"europe-west2\",\"bf-solve-all-networks-20240801165444\")"
   ]
  },
  {
   "cell_type": "code",
   "execution_count": 18,
   "metadata": {},
   "outputs": [
    {
     "name": "stdout",
     "output_type": "stream",
     "text": [
      "Status: 4\n"
     ]
    }
   ],
   "source": [
    "print(f\"Status: {job.status.state}\")"
   ]
  },
  {
   "cell_type": "code",
   "execution_count": 20,
   "metadata": {},
   "outputs": [
    {
     "ename": "AttributeError",
     "evalue": "'State' object has no attribute 'number'",
     "output_type": "error",
     "traceback": [
      "\u001b[0;31m---------------------------------------------------------------------------\u001b[0m",
      "\u001b[0;31mAttributeError\u001b[0m                            Traceback (most recent call last)",
      "Cell \u001b[0;32mIn[20], line 1\u001b[0m\n\u001b[0;32m----> 1\u001b[0m \u001b[43mjob\u001b[49m\u001b[38;5;241;43m.\u001b[39;49m\u001b[43mstatus\u001b[49m\u001b[38;5;241;43m.\u001b[39;49m\u001b[43mstate\u001b[49m\u001b[38;5;241;43m.\u001b[39;49m\u001b[43mnumber\u001b[49m\n",
      "\u001b[0;31mAttributeError\u001b[0m: 'State' object has no attribute 'number'"
     ]
    }
   ],
   "source": [
    "job.status.state"
   ]
  },
  {
   "cell_type": "code",
   "execution_count": null,
   "metadata": {},
   "outputs": [],
   "source": []
  }
 ],
 "metadata": {
  "kernelspec": {
   "display_name": "pypsa-earth-trace",
   "language": "python",
   "name": "python3"
  },
  "language_info": {
   "codemirror_mode": {
    "name": "ipython",
    "version": 3
   },
   "file_extension": ".py",
   "mimetype": "text/x-python",
   "name": "python",
   "nbconvert_exporter": "python",
   "pygments_lexer": "ipython3",
   "version": "3.10.14"
  }
 },
 "nbformat": 4,
 "nbformat_minor": 2
}
